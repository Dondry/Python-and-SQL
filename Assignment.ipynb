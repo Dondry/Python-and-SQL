{
 "cells": [
  {
   "cell_type": "code",
   "execution_count": 1,
   "metadata": {},
   "outputs": [],
   "source": [
    "%load_ext sql"
   ]
  },
  {
   "cell_type": "code",
   "execution_count": 2,
   "metadata": {},
   "outputs": [],
   "source": [
    "%sql ibm_db_sa://jgt32387:zL7f3VeypFfFvVFm@b0aebb68-94fa-46ec-a1fc-1c999edb6187.c3n41cmd0nqnrk39u98g.databases.appdomain.cloud:31249/BLUDB?security=SSL"
   ]
  },
  {
   "cell_type": "markdown",
   "metadata": {},
   "source": [
    "Total Number of crimes recorded in the crimes table "
   ]
  },
  {
   "cell_type": "code",
   "execution_count": 5,
   "metadata": {},
   "outputs": [
    {
     "name": "stdout",
     "output_type": "stream",
     "text": [
      " * ibm_db_sa://jgt32387:***@b0aebb68-94fa-46ec-a1fc-1c999edb6187.c3n41cmd0nqnrk39u98g.databases.appdomain.cloud:31249/BLUDB\n",
      "Done.\n"
     ]
    },
    {
     "data": {
      "text/html": [
       "<table>\n",
       "    <tr>\n",
       "        <th>1</th>\n",
       "    </tr>\n",
       "    <tr>\n",
       "        <td>533</td>\n",
       "    </tr>\n",
       "</table>"
      ],
      "text/plain": [
       "[(533,)]"
      ]
     },
     "execution_count": 5,
     "metadata": {},
     "output_type": "execute_result"
    }
   ],
   "source": [
    "%sql select count(*) from chicago_crime_data"
   ]
  },
  {
   "cell_type": "markdown",
   "metadata": {},
   "source": [
    "List community areas with per capita less that 11000"
   ]
  },
  {
   "cell_type": "code",
   "execution_count": 9,
   "metadata": {},
   "outputs": [
    {
     "name": "stdout",
     "output_type": "stream",
     "text": [
      " * ibm_db_sa://jgt32387:***@b0aebb68-94fa-46ec-a1fc-1c999edb6187.c3n41cmd0nqnrk39u98g.databases.appdomain.cloud:31249/BLUDB\n",
      "Done.\n"
     ]
    },
    {
     "data": {
      "text/html": [
       "<table>\n",
       "    <tr>\n",
       "        <th>community_area_name</th>\n",
       "        <th>per_capita_income</th>\n",
       "    </tr>\n",
       "    <tr>\n",
       "        <td>West Garfield Park</td>\n",
       "        <td>10934</td>\n",
       "    </tr>\n",
       "    <tr>\n",
       "        <td>South Lawndale</td>\n",
       "        <td>10402</td>\n",
       "    </tr>\n",
       "    <tr>\n",
       "        <td>Fuller Park</td>\n",
       "        <td>10432</td>\n",
       "    </tr>\n",
       "    <tr>\n",
       "        <td>Riverdale</td>\n",
       "        <td>8201</td>\n",
       "    </tr>\n",
       "</table>"
      ],
      "text/plain": [
       "[('West Garfield Park', 10934),\n",
       " ('South Lawndale', 10402),\n",
       " ('Fuller Park', 10432),\n",
       " ('Riverdale', 8201)]"
      ]
     },
     "execution_count": 9,
     "metadata": {},
     "output_type": "execute_result"
    }
   ],
   "source": [
    "%sql select community_area_name, per_capita_income from census_data \\\n",
    "     where per_capita_income < 11000;"
   ]
  },
  {
   "cell_type": "markdown",
   "metadata": {},
   "source": [
    "List all case numbers with crimes involving minors"
   ]
  },
  {
   "cell_type": "code",
   "execution_count": 11,
   "metadata": {},
   "outputs": [
    {
     "name": "stdout",
     "output_type": "stream",
     "text": [
      " * ibm_db_sa://jgt32387:***@b0aebb68-94fa-46ec-a1fc-1c999edb6187.c3n41cmd0nqnrk39u98g.databases.appdomain.cloud:31249/BLUDB\n",
      "Done.\n"
     ]
    },
    {
     "data": {
      "text/html": [
       "<table>\n",
       "    <tr>\n",
       "        <th>case_number</th>\n",
       "        <th>description</th>\n",
       "    </tr>\n",
       "    <tr>\n",
       "        <td>HL266884</td>\n",
       "        <td>SELL/GIVE/DEL LIQUOR TO MINOR</td>\n",
       "    </tr>\n",
       "    <tr>\n",
       "        <td>HK238408</td>\n",
       "        <td>ILLEGAL CONSUMPTION BY MINOR</td>\n",
       "    </tr>\n",
       "</table>"
      ],
      "text/plain": [
       "[('HL266884', 'SELL/GIVE/DEL LIQUOR TO MINOR'),\n",
       " ('HK238408', 'ILLEGAL CONSUMPTION BY MINOR')]"
      ]
     },
     "execution_count": 11,
     "metadata": {},
     "output_type": "execute_result"
    }
   ],
   "source": [
    "%sql select case_number, description from chicago_crime_data \\\n",
    "where description like '%MINOR%';"
   ]
  },
  {
   "cell_type": "markdown",
   "metadata": {},
   "source": [
    "List all kidnapping crimes involving a child    "
   ]
  },
  {
   "cell_type": "code",
   "execution_count": 14,
   "metadata": {},
   "outputs": [
    {
     "name": "stdout",
     "output_type": "stream",
     "text": [
      " * ibm_db_sa://jgt32387:***@b0aebb68-94fa-46ec-a1fc-1c999edb6187.c3n41cmd0nqnrk39u98g.databases.appdomain.cloud:31249/BLUDB\n",
      "Done.\n"
     ]
    },
    {
     "data": {
      "text/html": [
       "<table>\n",
       "    <tr>\n",
       "        <th>primary_type</th>\n",
       "        <th>description</th>\n",
       "    </tr>\n",
       "    <tr>\n",
       "        <td>KIDNAPPING</td>\n",
       "        <td>CHILD ABDUCTION/STRANGER</td>\n",
       "    </tr>\n",
       "</table>"
      ],
      "text/plain": [
       "[('KIDNAPPING', 'CHILD ABDUCTION/STRANGER')]"
      ]
     },
     "execution_count": 14,
     "metadata": {},
     "output_type": "execute_result"
    }
   ],
   "source": [
    "%sql select primary_type, description from chicago_crime_data \\\n",
    "where primary_type like '%KIDNAPPING%' AND description like '%CHILD%';"
   ]
  },
  {
   "cell_type": "markdown",
   "metadata": {},
   "source": [
    "What type of crimes where recorded as schools   "
   ]
  },
  {
   "cell_type": "code",
   "execution_count": 23,
   "metadata": {},
   "outputs": [
    {
     "name": "stdout",
     "output_type": "stream",
     "text": [
      " * ibm_db_sa://jgt32387:***@b0aebb68-94fa-46ec-a1fc-1c999edb6187.c3n41cmd0nqnrk39u98g.databases.appdomain.cloud:31249/BLUDB\n",
      "Done.\n"
     ]
    },
    {
     "data": {
      "text/html": [
       "<table>\n",
       "    <tr>\n",
       "        <th>school_id</th>\n",
       "        <th>name_of_school</th>\n",
       "        <th>Elementary, Middle, or High School</th>\n",
       "        <th>street_address</th>\n",
       "        <th>city</th>\n",
       "        <th>state</th>\n",
       "        <th>zip_code</th>\n",
       "        <th>phone_number</th>\n",
       "        <th>link</th>\n",
       "        <th>network_manager</th>\n",
       "        <th>collaborative_name</th>\n",
       "        <th>adequate_yearly_progress_made_</th>\n",
       "        <th>track_schedule</th>\n",
       "        <th>cps_performance_policy_status</th>\n",
       "        <th>cps_performance_policy_level</th>\n",
       "        <th>healthy_school_certified</th>\n",
       "        <th>safety_icon</th>\n",
       "        <th>safety_score</th>\n",
       "        <th>family_involvement_icon</th>\n",
       "        <th>family_involvement_score</th>\n",
       "        <th>environment_icon</th>\n",
       "        <th>environment_score</th>\n",
       "        <th>instruction_icon</th>\n",
       "        <th>instruction_score</th>\n",
       "        <th>leaders_icon</th>\n",
       "        <th>leaders_score</th>\n",
       "        <th>teachers_icon</th>\n",
       "        <th>teachers_score</th>\n",
       "        <th>parent_engagement_icon</th>\n",
       "        <th>parent_engagement_score</th>\n",
       "        <th>parent_environment_icon</th>\n",
       "        <th>parent_environment_score</th>\n",
       "        <th>average_student_attendance</th>\n",
       "        <th>rate_of_misconducts__per_100_students_</th>\n",
       "        <th>average_teacher_attendance</th>\n",
       "        <th>individualized_education_program_compliance_rate</th>\n",
       "        <th>pk_2_literacy__</th>\n",
       "        <th>pk_2_math__</th>\n",
       "        <th>gr3_5_grade_level_math__</th>\n",
       "        <th>gr3_5_grade_level_read__</th>\n",
       "        <th>gr3_5_keep_pace_read__</th>\n",
       "        <th>gr3_5_keep_pace_math__</th>\n",
       "        <th>gr6_8_grade_level_math__</th>\n",
       "        <th>gr6_8_grade_level_read__</th>\n",
       "        <th>gr6_8_keep_pace_math_</th>\n",
       "        <th>gr6_8_keep_pace_read__</th>\n",
       "        <th>gr_8_explore_math__</th>\n",
       "        <th>gr_8_explore_read__</th>\n",
       "        <th>isat_exceeding_math__</th>\n",
       "        <th>isat_exceeding_reading__</th>\n",
       "        <th>isat_value_add_math</th>\n",
       "        <th>isat_value_add_read</th>\n",
       "        <th>isat_value_add_color_math</th>\n",
       "        <th>isat_value_add_color_read</th>\n",
       "        <th>students_taking__algebra__</th>\n",
       "        <th>students_passing__algebra__</th>\n",
       "        <th>9th Grade EXPLORE (2009)</th>\n",
       "        <th>9th Grade EXPLORE (2010)</th>\n",
       "        <th>10th Grade PLAN (2009)</th>\n",
       "        <th>10th Grade PLAN (2010)</th>\n",
       "        <th>net_change_explore_and_plan</th>\n",
       "        <th>11th Grade Average ACT (2011)</th>\n",
       "        <th>net_change_plan_and_act</th>\n",
       "        <th>college_eligibility__</th>\n",
       "        <th>graduation_rate__</th>\n",
       "        <th>college_enrollment_rate__</th>\n",
       "        <th>college_enrollment</th>\n",
       "        <th>general_services_route</th>\n",
       "        <th>freshman_on_track_rate__</th>\n",
       "        <th>x_coordinate</th>\n",
       "        <th>y_coordinate</th>\n",
       "        <th>latitude</th>\n",
       "        <th>longitude</th>\n",
       "        <th>community_area_number</th>\n",
       "        <th>community_area_name</th>\n",
       "        <th>ward</th>\n",
       "        <th>police_district</th>\n",
       "        <th>location</th>\n",
       "    </tr>\n",
       "    <tr>\n",
       "        <td>610038</td>\n",
       "        <td>Abraham Lincoln Elementary School</td>\n",
       "        <td>ES</td>\n",
       "        <td>615 W Kemper Pl</td>\n",
       "        <td>Chicago</td>\n",
       "        <td>IL</td>\n",
       "        <td>60614</td>\n",
       "        <td>(773) 534-5720</td>\n",
       "        <td>http://schoolreports.cps.edu/SchoolProgressReport_Eng/Spring2011Eng_610038.pdf</td>\n",
       "        <td>Fullerton Elementary Network</td>\n",
       "        <td>NORTH-NORTHWEST SIDE COLLABORATIVE</td>\n",
       "        <td>No</td>\n",
       "        <td>Standard</td>\n",
       "        <td>Not on Probation</td>\n",
       "        <td>Level 1</td>\n",
       "        <td>Yes</td>\n",
       "        <td>Very Strong</td>\n",
       "        <td>99</td>\n",
       "        <td>Very Strong</td>\n",
       "        <td>99</td>\n",
       "        <td>Strong</td>\n",
       "        <td>74</td>\n",
       "        <td>Strong</td>\n",
       "        <td>66</td>\n",
       "        <td>Weak</td>\n",
       "        <td>65</td>\n",
       "        <td>Strong</td>\n",
       "        <td>70</td>\n",
       "        <td>Strong</td>\n",
       "        <td>56</td>\n",
       "        <td>Average</td>\n",
       "        <td>47</td>\n",
       "        <td>96.00%</td>\n",
       "        <td>2.0</td>\n",
       "        <td>96.40%</td>\n",
       "        <td>95.80%</td>\n",
       "        <td>80.1</td>\n",
       "        <td>43.3</td>\n",
       "        <td>89.6</td>\n",
       "        <td>84.9</td>\n",
       "        <td>60.7</td>\n",
       "        <td>62.6</td>\n",
       "        <td>81.9</td>\n",
       "        <td>85.2</td>\n",
       "        <td>52</td>\n",
       "        <td>62.4</td>\n",
       "        <td>66.3</td>\n",
       "        <td>77.9</td>\n",
       "        <td>69.7</td>\n",
       "        <td>64.4</td>\n",
       "        <td>0.2</td>\n",
       "        <td>0.9</td>\n",
       "        <td>Yellow</td>\n",
       "        <td>Green</td>\n",
       "        <td>67.1</td>\n",
       "        <td>54.5</td>\n",
       "        <td>NDA</td>\n",
       "        <td>NDA</td>\n",
       "        <td>NDA</td>\n",
       "        <td>NDA</td>\n",
       "        <td>NDA</td>\n",
       "        <td>NDA</td>\n",
       "        <td>NDA</td>\n",
       "        <td>NDA</td>\n",
       "        <td>NDA</td>\n",
       "        <td>NDA</td>\n",
       "        <td>813</td>\n",
       "        <td>33</td>\n",
       "        <td>NDA</td>\n",
       "        <td>1171699.458</td>\n",
       "        <td>1915829.428</td>\n",
       "        <td>41.92449696</td>\n",
       "        <td>-87.64452163</td>\n",
       "        <td>7</td>\n",
       "        <td>LINCOLN PARK</td>\n",
       "        <td>43</td>\n",
       "        <td>18</td>\n",
       "        <td>(41.92449696, -87.64452163)</td>\n",
       "    </tr>\n",
       "</table>"
      ],
      "text/plain": [
       "[(610038, 'Abraham Lincoln Elementary School', 'ES', '615 W Kemper Pl', 'Chicago', 'IL', 60614, '(773) 534-5720', 'http://schoolreports.cps.edu/SchoolProgressReport_Eng/Spring2011Eng_610038.pdf', 'Fullerton Elementary Network', 'NORTH-NORTHWEST SIDE COLLABORATIVE', 'No', 'Standard', 'Not on Probation', 'Level 1', 'Yes', 'Very Strong', 99, 'Very Strong', '99', 'Strong', 74, 'Strong', 66, 'Weak', '65', 'Strong', '70', 'Strong', '56', 'Average', '47', '96.00%', Decimal('2.0'), '96.40%', '95.80%', '80.1', '43.3', '89.6', '84.9', '60.7', '62.6', '81.9', '85.2', '52', '62.4', '66.3', '77.9', Decimal('69.7'), Decimal('64.4'), Decimal('0.2'), Decimal('0.9'), 'Yellow', 'Green', '67.1', '54.5', 'NDA', 'NDA', 'NDA', 'NDA', 'NDA', 'NDA', 'NDA', 'NDA', 'NDA', 'NDA', 813, 33, 'NDA', Decimal('1171699.458'), Decimal('1915829.428'), Decimal('41.92449696'), Decimal('-87.64452163'), 7, 'LINCOLN PARK', 43, 18, '(41.92449696, -87.64452163)')]"
      ]
     },
     "execution_count": 23,
     "metadata": {},
     "output_type": "execute_result"
    }
   ],
   "source": [
    "%sql select * from chicago_public_schools limit 1;"
   ]
  },
  {
   "cell_type": "code",
   "execution_count": 28,
   "metadata": {},
   "outputs": [
    {
     "ename": "SyntaxError",
     "evalue": "invalid syntax (181101135.py, line 1)",
     "output_type": "error",
     "traceback": [
      "\u001b[1;36m  File \u001b[1;32m\"C:\\Users\\Muvhango\\AppData\\Local\\Temp\\ipykernel_11300\\181101135.py\"\u001b[1;36m, line \u001b[1;32m1\u001b[0m\n\u001b[1;33m    chicago_public_shools.['Elementary, Middle, or High School'].str.replace(',','_')\u001b[0m\n\u001b[1;37m                          ^\u001b[0m\n\u001b[1;31mSyntaxError\u001b[0m\u001b[1;31m:\u001b[0m invalid syntax\n"
     ]
    }
   ],
   "source": [
    "chicago_public_shools.['Elementary, Middle, or High School'].str.replace(',','_')"
   ]
  },
  {
   "cell_type": "markdown",
   "metadata": {},
   "source": [
    "List the average safety score for each school type  "
   ]
  },
  {
   "cell_type": "code",
   "execution_count": 39,
   "metadata": {},
   "outputs": [
    {
     "name": "stdout",
     "output_type": "stream",
     "text": [
      " * ibm_db_sa://jgt32387:***@b0aebb68-94fa-46ec-a1fc-1c999edb6187.c3n41cmd0nqnrk39u98g.databases.appdomain.cloud:31249/BLUDB\n",
      "Done.\n"
     ]
    },
    {
     "data": {
      "text/html": [
       "<table>\n",
       "    <tr>\n",
       "        <th>type_of_schools</th>\n",
       "        <th>average_safety_score</th>\n",
       "    </tr>\n",
       "    <tr>\n",
       "        <td>ES</td>\n",
       "        <td>49</td>\n",
       "    </tr>\n",
       "    <tr>\n",
       "        <td>HS</td>\n",
       "        <td>49</td>\n",
       "    </tr>\n",
       "    <tr>\n",
       "        <td>MS</td>\n",
       "        <td>48</td>\n",
       "    </tr>\n",
       "</table>"
      ],
      "text/plain": [
       "[('ES', 49), ('HS', 49), ('MS', 48)]"
      ]
     },
     "execution_count": 39,
     "metadata": {},
     "output_type": "execute_result"
    }
   ],
   "source": [
    "%%sql \n",
    "    SELECT \"Elementary, Middle, or High School\" as type_of_schools, avg(safety_score) \n",
    "    as average_safety_score FROM CHICAGO_PUBLIC_SCHOOLS \n",
    "    GROUP BY \"Elementary, Middle, or High School\";"
   ]
  },
  {
   "cell_type": "markdown",
   "metadata": {},
   "source": [
    "List 5 community areas with the highest % of households below the poverty line"
   ]
  },
  {
   "cell_type": "code",
   "execution_count": 40,
   "metadata": {},
   "outputs": [
    {
     "name": "stdout",
     "output_type": "stream",
     "text": [
      " * ibm_db_sa://jgt32387:***@b0aebb68-94fa-46ec-a1fc-1c999edb6187.c3n41cmd0nqnrk39u98g.databases.appdomain.cloud:31249/BLUDB\n",
      "Done.\n"
     ]
    },
    {
     "data": {
      "text/html": [
       "<table>\n",
       "    <tr>\n",
       "        <th>community_area_number</th>\n",
       "        <th>community_area_name</th>\n",
       "        <th>percent_of_housing_crowded</th>\n",
       "        <th>percent_households_below_poverty</th>\n",
       "        <th>percent_aged_16__unemployed</th>\n",
       "        <th>percent_aged_25__without_high_school_diploma</th>\n",
       "        <th>percent_aged_under_18_or_over_64</th>\n",
       "        <th>per_capita_income</th>\n",
       "        <th>hardship_index</th>\n",
       "    </tr>\n",
       "    <tr>\n",
       "        <td>1</td>\n",
       "        <td>Rogers Park</td>\n",
       "        <td>7.7</td>\n",
       "        <td>23.6</td>\n",
       "        <td>8.7</td>\n",
       "        <td>18.2</td>\n",
       "        <td>27.5</td>\n",
       "        <td>23939</td>\n",
       "        <td>39</td>\n",
       "    </tr>\n",
       "</table>"
      ],
      "text/plain": [
       "[(1, 'Rogers Park', Decimal('7.7'), Decimal('23.6'), Decimal('8.7'), Decimal('18.2'), Decimal('27.5'), 23939, 39)]"
      ]
     },
     "execution_count": 40,
     "metadata": {},
     "output_type": "execute_result"
    }
   ],
   "source": [
    "%sql select * from census_data limit 1;"
   ]
  },
  {
   "cell_type": "code",
   "execution_count": 48,
   "metadata": {},
   "outputs": [
    {
     "name": "stdout",
     "output_type": "stream",
     "text": [
      " * ibm_db_sa://jgt32387:***@b0aebb68-94fa-46ec-a1fc-1c999edb6187.c3n41cmd0nqnrk39u98g.databases.appdomain.cloud:31249/BLUDB\n",
      "Done.\n"
     ]
    },
    {
     "data": {
      "text/html": [
       "<table>\n",
       "    <tr>\n",
       "        <th>community_area_name</th>\n",
       "        <th>highest_percent_households_below_poverty_line</th>\n",
       "    </tr>\n",
       "    <tr>\n",
       "        <td>Riverdale</td>\n",
       "        <td>56.5</td>\n",
       "    </tr>\n",
       "    <tr>\n",
       "        <td>Fuller Park</td>\n",
       "        <td>51.2</td>\n",
       "    </tr>\n",
       "    <tr>\n",
       "        <td>Englewood</td>\n",
       "        <td>46.6</td>\n",
       "    </tr>\n",
       "    <tr>\n",
       "        <td>North Lawndale</td>\n",
       "        <td>43.1</td>\n",
       "    </tr>\n",
       "    <tr>\n",
       "        <td>East Garfield Park</td>\n",
       "        <td>42.4</td>\n",
       "    </tr>\n",
       "</table>"
      ],
      "text/plain": [
       "[('Riverdale', Decimal('56.5')),\n",
       " ('Fuller Park', Decimal('51.2')),\n",
       " ('Englewood', Decimal('46.6')),\n",
       " ('North Lawndale', Decimal('43.1')),\n",
       " ('East Garfield Park', Decimal('42.4'))]"
      ]
     },
     "execution_count": 48,
     "metadata": {},
     "output_type": "execute_result"
    }
   ],
   "source": [
    "%%sql \n",
    "select community_area_name, percent_households_below_poverty as highest_percent_households_below_poverty_line  \n",
    "from census_data\n",
    "order by percent_households_below_poverty desc limit 5; \n",
    "        "
   ]
  },
  {
   "cell_type": "markdown",
   "metadata": {},
   "source": [
    "Which community area is most crime prone    "
   ]
  },
  {
   "cell_type": "code",
   "execution_count": 61,
   "metadata": {},
   "outputs": [
    {
     "name": "stdout",
     "output_type": "stream",
     "text": [
      " * ibm_db_sa://jgt32387:***@b0aebb68-94fa-46ec-a1fc-1c999edb6187.c3n41cmd0nqnrk39u98g.databases.appdomain.cloud:31249/BLUDB\n",
      "Done.\n"
     ]
    },
    {
     "data": {
      "text/html": [
       "<table>\n",
       "    <tr>\n",
       "        <th>community_area_name</th>\n",
       "        <th>community_area_number</th>\n",
       "    </tr>\n",
       "    <tr>\n",
       "        <td>Austin</td>\n",
       "        <td>25</td>\n",
       "    </tr>\n",
       "</table>"
      ],
      "text/plain": [
       "[('Austin', 25)]"
      ]
     },
     "execution_count": 61,
     "metadata": {},
     "output_type": "execute_result"
    }
   ],
   "source": [
    "%%sql \n",
    "\n",
    "SELECT community_area_name, community_area_number \n",
    "FROM CENSUS_DATA\n",
    "WHERE COMMUNITY_AREA_NUMBER IN \n",
    "    (SELECT COMMUNITY_AREA_NUMBER FROM CHICAGO_CRIME_DATA\n",
    "    GROUP BY COMMUNITY_AREA_NUMBER ORDER BY COUNT(*) DESC LIMIT 1)"
   ]
  },
  {
   "cell_type": "markdown",
   "metadata": {},
   "source": [
    "Use a sub-query to find the name of a community area with the highest hardship index"
   ]
  },
  {
   "cell_type": "markdown",
   "metadata": {},
   "source": [
    "Use a sub-query to determine the community area name with the most number of crimes "
   ]
  },
  {
   "cell_type": "code",
   "execution_count": 60,
   "metadata": {},
   "outputs": [
    {
     "name": "stdout",
     "output_type": "stream",
     "text": [
      " * ibm_db_sa://jgt32387:***@b0aebb68-94fa-46ec-a1fc-1c999edb6187.c3n41cmd0nqnrk39u98g.databases.appdomain.cloud:31249/BLUDB\n",
      "Done.\n"
     ]
    },
    {
     "data": {
      "text/html": [
       "<table>\n",
       "    <tr>\n",
       "        <th>community_area_name</th>\n",
       "        <th>community_area_number</th>\n",
       "    </tr>\n",
       "    <tr>\n",
       "        <td>Austin</td>\n",
       "        <td>25</td>\n",
       "    </tr>\n",
       "</table>"
      ],
      "text/plain": [
       "[('Austin', 25)]"
      ]
     },
     "execution_count": 60,
     "metadata": {},
     "output_type": "execute_result"
    }
   ],
   "source": [
    "%%sql\n",
    "SELECT community_area_name, community_area_number \n",
    "FROM CENSUS_DATA\n",
    "WHERE COMMUNITY_AREA_NUMBER IN \n",
    "    (SELECT COMMUNITY_AREA_NUMBER FROM CHICAGO_CRIME_DATA\n",
    "    GROUP BY COMMUNITY_AREA_NUMBER ORDER BY COUNT(*) DESC LIMIT 1)"
   ]
  }
 ],
 "metadata": {
  "interpreter": {
   "hash": "22516c97266d1df3dae3cf5668f7c269fd878a1135db622c477746fb3ace89b9"
  },
  "kernelspec": {
   "display_name": "Python 3.9.7 ('base')",
   "language": "python",
   "name": "python3"
  },
  "language_info": {
   "codemirror_mode": {
    "name": "ipython",
    "version": 3
   },
   "file_extension": ".py",
   "mimetype": "text/x-python",
   "name": "python",
   "nbconvert_exporter": "python",
   "pygments_lexer": "ipython3",
   "version": "3.9.7"
  },
  "orig_nbformat": 4
 },
 "nbformat": 4,
 "nbformat_minor": 2
}
